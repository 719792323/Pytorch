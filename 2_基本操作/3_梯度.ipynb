{
 "cells": [
  {
   "cell_type": "code",
   "execution_count": 2,
   "outputs": [],
   "source": [
    "import torch"
   ],
   "metadata": {
    "collapsed": false,
    "pycharm": {
     "name": "#%%\n"
    }
   }
  },
  {
   "cell_type": "code",
   "execution_count": 2,
   "outputs": [
    {
     "data": {
      "text/plain": "tensor([0., 1., 2., 3.])"
     },
     "execution_count": 2,
     "metadata": {},
     "output_type": "execute_result"
    }
   ],
   "source": [
    "x = torch.arange(4.0)\n",
    "x"
   ],
   "metadata": {
    "collapsed": false,
    "pycharm": {
     "name": "#%%\n"
    }
   }
  },
  {
   "cell_type": "code",
   "execution_count": 3,
   "outputs": [
    {
     "name": "stdout",
     "output_type": "stream",
     "text": [
      "None\n"
     ]
    },
    {
     "data": {
      "text/plain": "tensor([0., 1., 2., 3.], requires_grad=True)"
     },
     "execution_count": 3,
     "metadata": {},
     "output_type": "execute_result"
    }
   ],
   "source": [
    "print(x.grad)  # 默认不会保存梯度\n",
    "x.requires_grad_(True)  # 等价于x=torch.arange(4.0,requires_grad=True)"
   ],
   "metadata": {
    "collapsed": false,
    "pycharm": {
     "name": "#%%\n"
    }
   }
  },
  {
   "cell_type": "code",
   "execution_count": 4,
   "outputs": [
    {
     "data": {
      "text/plain": "tensor(28., grad_fn=<MulBackward0>)"
     },
     "execution_count": 4,
     "metadata": {},
     "output_type": "execute_result"
    }
   ],
   "source": [
    "y = 2 * torch.dot(x, x)  # y=2x^2\n",
    "y"
   ],
   "metadata": {
    "collapsed": false,
    "pycharm": {
     "name": "#%%\n"
    }
   }
  },
  {
   "cell_type": "code",
   "execution_count": 5,
   "outputs": [
    {
     "data": {
      "text/plain": "tensor([ 0.,  4.,  8., 12.])"
     },
     "execution_count": 5,
     "metadata": {},
     "output_type": "execute_result"
    }
   ],
   "source": [
    "# 通过调⽤反向传播函数来⾃动计算y关于x每个分量的梯度，并打印这些梯度。\n",
    "# y'=4x\n",
    "y.backward()\n",
    "x.grad"
   ],
   "metadata": {
    "collapsed": false,
    "pycharm": {
     "name": "#%%\n"
    }
   }
  },
  {
   "cell_type": "code",
   "execution_count": 6,
   "outputs": [
    {
     "data": {
      "text/plain": "tensor([True, True, True, True])"
     },
     "execution_count": 6,
     "metadata": {},
     "output_type": "execute_result"
    }
   ],
   "source": [
    "# 验证x.grad是否等于4*x\n",
    "4 * x == x.grad"
   ],
   "metadata": {
    "collapsed": false,
    "pycharm": {
     "name": "#%%\n"
    }
   }
  },
  {
   "cell_type": "code",
   "execution_count": 7,
   "outputs": [
    {
     "name": "stdout",
     "output_type": "stream",
     "text": [
      "tensor([0., 0., 0., 0.])\n"
     ]
    },
    {
     "data": {
      "text/plain": "tensor([1., 1., 1., 1.])"
     },
     "execution_count": 7,
     "metadata": {},
     "output_type": "execute_result"
    }
   ],
   "source": [
    "# 在默认情况下， PyTorch会累积梯度，我们需要清除之前的值，就是将grad都设置为0\n",
    "x.grad.zero_()\n",
    "print(x.grad)\n",
    "# y=x1+x2+x3+x4\n",
    "y = x.sum()\n",
    "y.backward()\n",
    "x.grad"
   ],
   "metadata": {
    "collapsed": false,
    "pycharm": {
     "name": "#%%\n"
    }
   }
  },
  {
   "cell_type": "code",
   "execution_count": 9,
   "outputs": [
    {
     "name": "stdout",
     "output_type": "stream",
     "text": [
      "tensor([0., 1., 4., 9.], grad_fn=<MulBackward0>)\n"
     ]
    },
    {
     "data": {
      "text/plain": "tensor([0., 2., 4., 6.])"
     },
     "execution_count": 9,
     "metadata": {},
     "output_type": "execute_result"
    }
   ],
   "source": [
    "\"\"\"\n",
    "注意这里的区别，这时y已经不是标量了，y是一个向量\n",
    "此时再计算梯度时，即但当调⽤向量的反向计算时，\n",
    "我们通常会试图计算⼀批训练样本中每个组成部分的损失函数的导数。\n",
    "这⾥，我们的⽬的不是计算微分矩阵，而是单独计算批量中每个样本的偏导数之和。\n",
    "\"\"\"\n",
    "x.grad.zero_()\n",
    "# x*x注意和torch.dot(x, x)区别，torch.dot(x, x)=>x1^2+x2^2+..+x4^2\n",
    "# x*x=> x1^2 | x2^2 | ... | x4^2，其中| 表示元素之间相互没关系\n",
    "y = x * x\n",
    "print(y)  # y是一个向量，而不是标量\n",
    "# 等价于y.backward(torch.ones(len(x)))\n",
    "y.sum().backward()\n",
    "x.grad"
   ],
   "metadata": {
    "collapsed": false,
    "pycharm": {
     "name": "#%%\n"
    }
   }
  },
  {
   "cell_type": "code",
   "execution_count": 14,
   "outputs": [
    {
     "name": "stdout",
     "output_type": "stream",
     "text": [
      "tensor([ 0.,  3., 12., 27.])\n",
      "tensor([0., 1., 4., 9.])\n",
      "tensor([0., 2., 4., 6.])\n"
     ]
    }
   ],
   "source": [
    "# 分离计算\n",
    "\"\"\"\n",
    "如果z=u*x，而u=x^2，如果直接计算梯度的话，z'=3x^2\n",
    "如果我们想让u视为一个常数，即z'=u,则需要丁勇detach\n",
    "\"\"\"\n",
    "# 不分离的情况\n",
    "x.grad.zero_()\n",
    "y = x * x\n",
    "u = y\n",
    "z = u * x\n",
    "z.sum().backward()\n",
    "print(x.grad)  # z'=3x^2\n",
    "# 分离的情况\n",
    "x.grad.zero_()\n",
    "y = x * x\n",
    "u = y.detach()\n",
    "z = u * x\n",
    "z.sum().backward()\n",
    "print(x.grad)  # z'=u,u视为一个常数，u=x^2\n",
    "# 后面如果还想获得y'对应的梯度，即y'=2x\n",
    "x.grad.zero_()\n",
    "y.sum().backward()\n",
    "print(x.grad)"
   ],
   "metadata": {
    "collapsed": false,
    "pycharm": {
     "name": "#%%\n"
    }
   }
  },
  {
   "cell_type": "code",
   "execution_count": 14,
   "outputs": [
    {
     "name": "stdout",
     "output_type": "stream",
     "text": [
      "tensor(1.1101, requires_grad=True)\n",
      "tensor(1024.)\n"
     ]
    },
    {
     "data": {
      "text/plain": "tensor(True)"
     },
     "execution_count": 14,
     "metadata": {},
     "output_type": "execute_result"
    }
   ],
   "source": [
    "def f(a):\n",
    "    b = a * 2\n",
    "    # norm求L2范数\n",
    "    while b.norm() < 1000:\n",
    "        b = b * 2\n",
    "    if b.sum() > 0:\n",
    "        c = b\n",
    "    else:\n",
    "        c = 100 * b\n",
    "    return c\n",
    "a = torch.randn(size=(), requires_grad=True)\n",
    "print(a)\n",
    "\"\"\"\n",
    "d\n",
    "\"\"\"\n",
    "d=f(a)\n",
    "\"\"\"\"\n",
    "f(a)明显是非线性函数，根据f(a)的定义可以确定d=ka，k是一个常数\n",
    "f‘(a)=k,d=ka\n",
    "f'(a)==a.grad==d/a\n",
    "\"\"\"\n",
    "d.backward()\n",
    "print(a.grad)\n",
    "a.grad==d/a"
   ],
   "metadata": {
    "collapsed": false,
    "pycharm": {
     "name": "#%%\n"
    }
   }
  }
 ],
 "metadata": {
  "kernelspec": {
   "display_name": "Python 3",
   "language": "python",
   "name": "python3"
  },
  "language_info": {
   "codemirror_mode": {
    "name": "ipython",
    "version": 2
   },
   "file_extension": ".py",
   "mimetype": "text/x-python",
   "name": "python",
   "nbconvert_exporter": "python",
   "pygments_lexer": "ipython2",
   "version": "2.7.6"
  }
 },
 "nbformat": 4,
 "nbformat_minor": 0
}