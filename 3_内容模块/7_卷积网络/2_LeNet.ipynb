{
 "cells": [
  {
   "cell_type": "code",
   "execution_count": 8,
   "outputs": [],
   "source": [
    "import torch\n",
    "from torch import nn\n",
    "from torchvision import transforms\n",
    "import torchvision\n",
    "from torch.utils import data"
   ],
   "metadata": {
    "collapsed": false,
    "pycharm": {
     "name": "#%%\n"
    }
   }
  },
  {
   "cell_type": "code",
   "execution_count": 14,
   "outputs": [],
   "source": [
    "\"\"\"\n",
    "第⼀卷积层有6个输出通道，使⽤5 × 5卷积核和⼀个sigmoid激活函数\n",
    "第一个汇聚层是平均汇聚层，大小为2 × 2\n",
    "第二个卷积层有6个输入通道，16个输出通道，使⽤5 × 5卷积核和⼀个sigmoid激活函数\n",
    "第二个汇聚层是平均汇聚层，大小为2 × 2\n",
    "后面是三个全连接层\n",
    "\"\"\"\n",
    "LeNet = nn.Sequential(\n",
    "    nn.Conv2d(1, 6, kernel_size=5, padding=2), nn.Sigmoid(),\n",
    "    nn.AvgPool2d(kernel_size=2, stride=2),\n",
    "    nn.Conv2d(6, 16, kernel_size=5), nn.Sigmoid(),\n",
    "    nn.AvgPool2d(kernel_size=2, stride=2),\n",
    "    nn.Flatten(),\n",
    "    nn.Linear(16 * 5 * 5, 120), nn.Sigmoid(),\n",
    "    nn.Linear(120, 84), nn.Sigmoid(),\n",
    "    nn.Linear(84, 10)\n",
    ")"
   ],
   "metadata": {
    "collapsed": false,
    "pycharm": {
     "name": "#%%\n"
    }
   }
  },
  {
   "cell_type": "code",
   "execution_count": 4,
   "outputs": [
    {
     "name": "stdout",
     "output_type": "stream",
     "text": [
      "Conv2d output shape: \t torch.Size([1, 6, 28, 28])\n",
      "Sigmoid output shape: \t torch.Size([1, 6, 28, 28])\n",
      "AvgPool2d output shape: \t torch.Size([1, 6, 14, 14])\n",
      "Conv2d output shape: \t torch.Size([1, 16, 10, 10])\n",
      "Sigmoid output shape: \t torch.Size([1, 16, 10, 10])\n",
      "AvgPool2d output shape: \t torch.Size([1, 16, 5, 5])\n",
      "Flatten output shape: \t torch.Size([1, 400])\n",
      "Linear output shape: \t torch.Size([1, 120])\n",
      "Sigmoid output shape: \t torch.Size([1, 120])\n",
      "Linear output shape: \t torch.Size([1, 84])\n",
      "Sigmoid output shape: \t torch.Size([1, 84])\n",
      "Linear output shape: \t torch.Size([1, 10])\n"
     ]
    }
   ],
   "source": [
    "# 查看数据通过网络的每一层之后的数据形状\n",
    "X = torch.rand(size=(1, 1, 28, 28), dtype=torch.float32)\n",
    "for layer in LeNet:\n",
    "    X = layer(X)\n",
    "    print(layer.__class__.__name__, 'output shape: \\t', X.shape)"
   ],
   "metadata": {
    "collapsed": false,
    "pycharm": {
     "name": "#%%\n"
    }
   }
  },
  {
   "cell_type": "code",
   "execution_count": 7,
   "outputs": [
    {
     "name": "stdout",
     "output_type": "stream",
     "text": [
      "Conv2d\n",
      "('weight', torch.Size([6, 1, 5, 5])) ('bias', torch.Size([6]))\n",
      "Sigmoid\n",
      "\n",
      "AvgPool2d\n",
      "\n",
      "Conv2d\n",
      "('weight', torch.Size([16, 6, 5, 5])) ('bias', torch.Size([16]))\n",
      "Sigmoid\n",
      "\n",
      "AvgPool2d\n",
      "\n",
      "Flatten\n",
      "\n",
      "Linear\n",
      "('weight', torch.Size([120, 400])) ('bias', torch.Size([120]))\n",
      "Sigmoid\n",
      "\n",
      "Linear\n",
      "('weight', torch.Size([84, 120])) ('bias', torch.Size([84]))\n",
      "Sigmoid\n",
      "\n",
      "Linear\n",
      "('weight', torch.Size([10, 84])) ('bias', torch.Size([10]))\n"
     ]
    }
   ],
   "source": [
    "# 查看各层参数\n",
    "for layer in LeNet:\n",
    "    print(layer.__class__.__name__)\n",
    "    print(*[(name, param.shape) for name, param in layer.named_parameters()])"
   ],
   "metadata": {
    "collapsed": false,
    "pycharm": {
     "name": "#%%\n"
    }
   }
  },
  {
   "cell_type": "code",
   "execution_count": 9,
   "outputs": [],
   "source": [
    "def load_data_fashion_mnist(batch_size, resize=None):\n",
    "    trans = [transforms.ToTensor()]\n",
    "    if resize:\n",
    "        trans.insert(0, transforms.Resize(resize))\n",
    "    trans = transforms.Compose(trans)\n",
    "    mnist_train = torchvision.datasets.FashionMNIST(root=\"data\", train=True, transform=trans, download=True)\n",
    "    mnist_test = torchvision.datasets.FashionMNIST(root=\"data\", train=False, transform=trans, download=True)\n",
    "    return (data.DataLoader(mnist_train, batch_size, shuffle=True, num_workers=4),\n",
    "            data.DataLoader(mnist_test, batch_size, shuffle=False, num_workers=4))\n",
    "\n",
    "\n",
    "batch_size = 256\n",
    "train_iter, test_iter = load_data_fashion_mnist(batch_size)"
   ],
   "metadata": {
    "collapsed": false,
    "pycharm": {
     "name": "#%%\n"
    }
   }
  },
  {
   "cell_type": "code",
   "execution_count": 11,
   "outputs": [],
   "source": [
    "class Accumulator:\n",
    "    def __init__(self, n):\n",
    "        self.data = [0.0] * n\n",
    "\n",
    "    def add(self, *args):\n",
    "        self.data = [a + float(b) for a, b in zip(self.data, args)]\n",
    "\n",
    "    def reset(self):\n",
    "        self.data = [0.0] * len(self.data)\n",
    "\n",
    "    def __getitem__(self, idx):\n",
    "        return self.data[idx]\n",
    "\n",
    "\n",
    "def accuracy(y_hat, y):\n",
    "    if len(y_hat.shape) > 1 and y_hat.shape[1] > 1:\n",
    "        y_hat = y_hat.argmax(axis=1)\n",
    "    # 将y_hat进行类型转换\n",
    "    cmp = y_hat.type(y.dtype) == y\n",
    "    # 返回预测正确的个数\n",
    "    return float(cmp.type(y.dtype).sum())\n",
    "\n",
    "\n",
    "def evaluate_accuracy(net, data_iter):\n",
    "    if isinstance(net, torch.nn.Module):\n",
    "        net.eval()  # 将模型设置为评估模式\n",
    "    metric = Accumulator(2)  # 正确预测数、预测总数\n",
    "    with torch.no_grad():\n",
    "        for X, y in data_iter:\n",
    "            metric.add(accuracy(net(X), y), y.numel())\n",
    "    return metric[0] / metric[1]"
   ],
   "metadata": {
    "collapsed": false,
    "pycharm": {
     "name": "#%%\n"
    }
   }
  },
  {
   "cell_type": "code",
   "execution_count": 36,
   "outputs": [],
   "source": [
    "def train(net, train_iter, test_iter, num_epochs, lr, optimizer=\"sgd\"):\n",
    "    def init_weights(m):\n",
    "        if type(m) == nn.Linear or type(m) == nn.Conv2d:\n",
    "            nn.init.xavier_uniform_(m.weight)\n",
    "\n",
    "    net.apply(init_weights)\n",
    "    # optimizer = torch.optim.SGD(net.parameters(), lr=lr)\n",
    "    if optimizer == \"sgd\":\n",
    "        optimizer = torch.optim.SGD(net.parameters(), lr=lr)\n",
    "    else:\n",
    "        # adam\n",
    "        optimizer = torch.optim.Adam(net.parameters(), lr=lr)\n",
    "    loss = nn.CrossEntropyLoss()\n",
    "    for epoch in range(num_epochs):\n",
    "        for i, (X, y) in enumerate(train_iter):\n",
    "            optimizer.zero_grad()\n",
    "            y_hat = net(X)\n",
    "            l = loss(y_hat, y)\n",
    "            l.backward()\n",
    "            optimizer.step()\n",
    "            # print(\"epoch:{},batch:{},train accuracy:{}\".format(epoch,i,accuracy(y_hat, y)/len(y)))\n",
    "        print(\"epoch:{},acc:{}\".format(epoch, evaluate_accuracy(net, test_iter)))"
   ],
   "metadata": {
    "collapsed": false,
    "pycharm": {
     "name": "#%%\n"
    }
   }
  },
  {
   "cell_type": "code",
   "execution_count": 17,
   "outputs": [
    {
     "name": "stdout",
     "output_type": "stream",
     "text": [
      "epoch:0,acc:0.1\n",
      "epoch:1,acc:0.5784\n",
      "epoch:2,acc:0.6363\n",
      "epoch:3,acc:0.6789\n",
      "epoch:4,acc:0.7595\n",
      "epoch:5,acc:0.757\n",
      "epoch:6,acc:0.7938\n",
      "epoch:7,acc:0.7774\n",
      "epoch:8,acc:0.7718\n",
      "epoch:9,acc:0.8121\n"
     ]
    }
   ],
   "source": [
    "lr, num_epochs = 0.9, 10\n",
    "train(LeNet, train_iter, test_iter, num_epochs, lr)"
   ],
   "metadata": {
    "collapsed": false,
    "pycharm": {
     "name": "#%%\n"
    }
   }
  },
  {
   "cell_type": "code",
   "execution_count": 34,
   "outputs": [],
   "source": [
    "# 调整LeNet\n",
    "# 扩大卷积核大小\n",
    "# 更换sigmoid为RELU\n",
    "# 扩大通道数量\n",
    "LeNet = nn.Sequential(\n",
    "    nn.Conv2d(1, 10, kernel_size=7, padding=2), nn.ReLU(),\n",
    "    nn.AvgPool2d(kernel_size=2, stride=2),\n",
    "    nn.Conv2d(10, 20, kernel_size=7), nn.ReLU(),\n",
    "    nn.AvgPool2d(kernel_size=2, stride=2),\n",
    "    nn.Flatten(),\n",
    "    nn.Linear(180, 120), nn.ReLU(),\n",
    "    nn.Linear(120, 84), nn.ReLU(),\n",
    "    nn.Linear(84, 10)\n",
    ")"
   ],
   "metadata": {
    "collapsed": false,
    "pycharm": {
     "name": "#%%\n"
    }
   }
  },
  {
   "cell_type": "code",
   "execution_count": 35,
   "outputs": [
    {
     "name": "stdout",
     "output_type": "stream",
     "text": [
      "Conv2d output shape: \t torch.Size([1, 10, 26, 26])\n",
      "ReLU output shape: \t torch.Size([1, 10, 26, 26])\n",
      "AvgPool2d output shape: \t torch.Size([1, 10, 13, 13])\n",
      "Conv2d output shape: \t torch.Size([1, 20, 7, 7])\n",
      "ReLU output shape: \t torch.Size([1, 20, 7, 7])\n",
      "AvgPool2d output shape: \t torch.Size([1, 20, 3, 3])\n",
      "Flatten output shape: \t torch.Size([1, 180])\n",
      "Linear output shape: \t torch.Size([1, 120])\n",
      "ReLU output shape: \t torch.Size([1, 120])\n",
      "Linear output shape: \t torch.Size([1, 84])\n",
      "ReLU output shape: \t torch.Size([1, 84])\n",
      "Linear output shape: \t torch.Size([1, 10])\n"
     ]
    }
   ],
   "source": [
    "X = torch.rand(size=(1, 1, 28, 28), dtype=torch.float32)\n",
    "for layer in LeNet:\n",
    "    X = layer(X)\n",
    "    print(layer.__class__.__name__, 'output shape: \\t', X.shape)"
   ],
   "metadata": {
    "collapsed": false,
    "pycharm": {
     "name": "#%%\n"
    }
   }
  },
  {
   "cell_type": "code",
   "execution_count": 37,
   "outputs": [
    {
     "name": "stdout",
     "output_type": "stream",
     "text": [
      "epoch:0,acc:0.7491\n",
      "epoch:1,acc:0.7892\n",
      "epoch:2,acc:0.8332\n",
      "epoch:3,acc:0.7812\n",
      "epoch:4,acc:0.8063\n",
      "epoch:5,acc:0.8319\n",
      "epoch:6,acc:0.8092\n",
      "epoch:7,acc:0.8669\n",
      "epoch:8,acc:0.8746\n",
      "epoch:9,acc:0.8625\n"
     ]
    }
   ],
   "source": [
    "lr, num_epochs = 0.5, 10\n",
    "train(LeNet, train_iter, test_iter, num_epochs, lr)"
   ],
   "metadata": {
    "collapsed": false,
    "pycharm": {
     "name": "#%%\n"
    }
   }
  },
  {
   "cell_type": "code",
   "execution_count": null,
   "outputs": [],
   "source": [],
   "metadata": {
    "collapsed": false,
    "pycharm": {
     "name": "#%%\n"
    }
   }
  }
 ],
 "metadata": {
  "kernelspec": {
   "display_name": "Python 3",
   "language": "python",
   "name": "python3"
  },
  "language_info": {
   "codemirror_mode": {
    "name": "ipython",
    "version": 2
   },
   "file_extension": ".py",
   "mimetype": "text/x-python",
   "name": "python",
   "nbconvert_exporter": "python",
   "pygments_lexer": "ipython2",
   "version": "2.7.6"
  }
 },
 "nbformat": 4,
 "nbformat_minor": 0
}