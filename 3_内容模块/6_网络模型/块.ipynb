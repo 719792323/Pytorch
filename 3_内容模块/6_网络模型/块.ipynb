{
 "cells": [
  {
   "cell_type": "code",
   "execution_count": 1,
   "outputs": [],
   "source": [
    "import torch\n",
    "from torch import nn\n",
    "from torch.nn import functional as F"
   ],
   "metadata": {
    "collapsed": false,
    "pycharm": {
     "name": "#%%\n"
    }
   }
  },
  {
   "cell_type": "code",
   "execution_count": 2,
   "outputs": [
    {
     "data": {
      "text/plain": "tensor([[-0.2001,  0.2031,  0.0702, -0.2050,  0.3053, -0.0404,  0.0411,  0.0603,\n         -0.0283,  0.1784],\n        [-0.2428,  0.1747,  0.0389, -0.1910,  0.2609, -0.0039, -0.0280,  0.0703,\n         -0.0502,  0.1538]], grad_fn=<AddmmBackward0>)"
     },
     "execution_count": 2,
     "metadata": {},
     "output_type": "execute_result"
    }
   ],
   "source": [
    "# pytorch提供的模块\n",
    "net = nn.Sequential(nn.Linear(20, 256), nn.ReLU(), nn.Linear(256, 10))\n",
    "X = torch.rand(2, 20)\n",
    "net(X)"
   ],
   "metadata": {
    "collapsed": false,
    "pycharm": {
     "name": "#%%\n"
    }
   }
  },
  {
   "cell_type": "code",
   "execution_count": 3,
   "outputs": [
    {
     "data": {
      "text/plain": "tensor([[-0.0930, -0.2091,  0.1396,  0.1756, -0.1634,  0.1720, -0.1835,  0.2592,\n          0.0378, -0.1421],\n        [-0.0449, -0.1525,  0.1013,  0.0653, -0.1765,  0.1730, -0.1844,  0.1758,\n          0.0391, -0.1253]], grad_fn=<AddmmBackward0>)"
     },
     "execution_count": 3,
     "metadata": {},
     "output_type": "execute_result"
    }
   ],
   "source": [
    "# 自定义块\n",
    "\"\"\"\n",
    "一个块需要的基本功能：\n",
    "1. 将输⼊数据作为其前向传播函数的参数。\n",
    "2. 通过前向传播函数来⽣成输出。forward函数\n",
    "3. 计算其输出关于输⼊的梯度，可通过其反向传播函数进⾏访问。通常这是⾃动发⽣的。backward函数\n",
    "4. 存储和访问前向传播计算所需的参数。\n",
    "5. 根据需要初始化模型参数。\n",
    "\"\"\"\n",
    "\"\"\"\n",
    "继承nn.Module的类实现块，只需要实现__init__和前向传播函数\n",
    "\"\"\"\n",
    "\n",
    "\n",
    "class MLP(nn.Module):\n",
    "    def __init__(self):\n",
    "        # 调⽤MLP的⽗类Module的构造函数来执⾏必要的初始化。\n",
    "        # 这样，在类实例化时也可以指定其他函数参数，例如模型参数params\n",
    "        super().__init__()\n",
    "        # 定义隐藏层\n",
    "        self.hidden = nn.Linear(20, 256)\n",
    "        # 定义输出层\n",
    "        self.out = nn.Linear(256, 10)\n",
    "\n",
    "    def forward(self, X):\n",
    "        return self.out(F.relu(self.hidden(X)))\n",
    "\n",
    "\n",
    "net = MLP()\n",
    "net(X)"
   ],
   "metadata": {
    "collapsed": false,
    "pycharm": {
     "name": "#%%\n"
    }
   }
  },
  {
   "cell_type": "code",
   "execution_count": 4,
   "outputs": [
    {
     "name": "stdout",
     "output_type": "stream",
     "text": [
      "0 Linear(in_features=20, out_features=256, bias=True)\n",
      "1 ReLU()\n",
      "2 Linear(in_features=256, out_features=10, bias=True)\n"
     ]
    },
    {
     "data": {
      "text/plain": "tensor([[ 0.0239, -0.0984, -0.2156,  0.0136,  0.1265, -0.1341, -0.0572, -0.1356,\n         -0.2161,  0.2588],\n        [-0.0683, -0.1639, -0.1130, -0.1049,  0.1173, -0.0862, -0.0838, -0.1253,\n         -0.1882,  0.1580]], grad_fn=<AddmmBackward0>)"
     },
     "execution_count": 4,
     "metadata": {},
     "output_type": "execute_result"
    }
   ],
   "source": [
    "# 顺序块，实现Sequential\n",
    "\"\"\"\n",
    "Sequential需要拥有的功能\n",
    "1. ⼀种将块逐个追加到列表中的函数；\n",
    "2. ⼀种前向传播函数，⽤于将输⼊按追加块的顺序传递给块组成的“链条”。\n",
    "\"\"\"\n",
    "\n",
    "\n",
    "class MySequential(nn.Module):\n",
    "    def __init__(self, *args):\n",
    "        super().__init__()\n",
    "        for idx, module in enumerate(args):\n",
    "            print(idx, module)\n",
    "            self._modules[str(idx)] = module\n",
    "\n",
    "    def forward(self, X):\n",
    "        for block in self._modules.values():\n",
    "            X = block(X)\n",
    "        return X\n",
    "\n",
    "\n",
    "net = MySequential(nn.Linear(20, 256), nn.ReLU(), nn.Linear(256, 10))\n",
    "net(X)"
   ],
   "metadata": {
    "collapsed": false,
    "pycharm": {
     "name": "#%%\n"
    }
   }
  },
  {
   "cell_type": "code",
   "execution_count": 6,
   "outputs": [
    {
     "data": {
      "text/plain": "tensor(0.2956, grad_fn=<SumBackward0>)"
     },
     "execution_count": 6,
     "metadata": {},
     "output_type": "execute_result"
    }
   ],
   "source": [
    "# 前向传播中执行自定义代码\n",
    "\"\"\"\n",
    "⽹络中的所有操作都对⽹络的激活值及⽹络的参数起作⽤。\n",
    "有时可能希望合并既不是上⼀层的结果也不是可更新参数的项，称之为常数参数。\n",
    "例如，需要⼀个计算函数 f(x; w) = cWX的层，其中x是输⼊， w是参数， c是某个在优化过程中没有更新的指定常量。\n",
    "\"\"\"\n",
    "\n",
    "\n",
    "class FixedHiddenMLP(nn.Module):\n",
    "    def __init__(self):\n",
    "        super().__init__()\n",
    "        # 不计算梯度的随机权重参数。因此其在训练期间保持不变\n",
    "        self.rand_weight = torch.rand((20, 20), requires_grad=False)\n",
    "        self.linear = nn.Linear(20, 20)\n",
    "\n",
    "    def forward(self, X):\n",
    "        # 进行wx\n",
    "        X = self.linear(X)\n",
    "        # 使⽤创建的常量参数以及relu和mm函数\n",
    "        # 进行cwx+1\n",
    "        X = F.relu(torch.mm(X, self.rand_weight) + 1)\n",
    "        # 复⽤全连接层。这相当于两个全连接层共享参数\n",
    "        X = self.linear(X)\n",
    "        # 控制流\n",
    "        # 在L1范数⼤于1的条件下，将输出向量除以2，直到它满⾜条件为⽌\n",
    "        while X.abs().sum() > 1:\n",
    "            X /= 2\n",
    "        return X.sum()\n",
    "\n",
    "\n",
    "net = FixedHiddenMLP()\n",
    "net(X)"
   ],
   "metadata": {
    "collapsed": false,
    "pycharm": {
     "name": "#%%\n"
    }
   }
  },
  {
   "cell_type": "code",
   "execution_count": 8,
   "outputs": [
    {
     "data": {
      "text/plain": "tensor(-0.5037, grad_fn=<SumBackward0>)"
     },
     "execution_count": 8,
     "metadata": {},
     "output_type": "execute_result"
    }
   ],
   "source": [
    "# 组合块,可以混合搭配各种组合块的⽅法。\n",
    "class NestMLP(nn.Module):\n",
    "    def __init__(self):\n",
    "        super().__init__()\n",
    "        self.net = nn.Sequential(nn.Linear(20, 64), nn.ReLU(),\n",
    "                                 nn.Linear(64, 32), nn.ReLU())\n",
    "        self.linear = nn.Linear(32, 16)\n",
    "\n",
    "    def forward(self, X):\n",
    "        return self.linear(self.net(X))\n",
    "\n",
    "\n",
    "chimera = nn.Sequential(NestMLP(), nn.Linear(16, 20), FixedHiddenMLP())\n",
    "chimera(X)"
   ],
   "metadata": {
    "collapsed": false,
    "pycharm": {
     "name": "#%%\n"
    }
   }
  },
  {
   "cell_type": "code",
   "execution_count": null,
   "outputs": [],
   "source": [],
   "metadata": {
    "collapsed": false,
    "pycharm": {
     "name": "#%%\n"
    }
   }
  }
 ],
 "metadata": {
  "kernelspec": {
   "display_name": "Python 3",
   "language": "python",
   "name": "python3"
  },
  "language_info": {
   "codemirror_mode": {
    "name": "ipython",
    "version": 2
   },
   "file_extension": ".py",
   "mimetype": "text/x-python",
   "name": "python",
   "nbconvert_exporter": "python",
   "pygments_lexer": "ipython2",
   "version": "2.7.6"
  }
 },
 "nbformat": 4,
 "nbformat_minor": 0
}