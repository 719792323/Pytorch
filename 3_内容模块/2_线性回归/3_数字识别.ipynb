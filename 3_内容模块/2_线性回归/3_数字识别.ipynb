{
 "cells": [
  {
   "cell_type": "code",
   "execution_count": 1,
   "outputs": [],
   "source": [
    "import torch\n",
    "from torch import nn\n",
    "from torch.nn import functional as F\n",
    "from torch import optim\n",
    "import torchvision\n",
    "import matplotlib.pyplot as plt"
   ],
   "metadata": {
    "collapsed": false,
    "pycharm": {
     "name": "#%%\n"
    }
   }
  },
  {
   "cell_type": "code",
   "execution_count": 2,
   "outputs": [],
   "source": [
    "# 1.加载数据集\n",
    "batch_size = 512  #每个batch多少张图片\n",
    "#读取训练集\n",
    "train_loader = torch.utils.data.DataLoader(\n",
    "    torchvision.datasets.MNIST('data',  #数据存储路径，如果不存在下载后会存到此路径\n",
    "                               train=True, download=True,  #如果本地不存在，则下载数据\n",
    "                               transform=torchvision.transforms.Compose([\n",
    "                                   torchvision.transforms.ToTensor(),  #数据类型转为tensor格式\n",
    "                                   torchvision.transforms.Normalize(  #将数据Normalize处理，类似归一化\n",
    "                                       (0.1307,), (0.3081,))\n",
    "                               ])),\n",
    "    batch_size=batch_size, shuffle=True)\n",
    "#读取测试集\n",
    "test_loader = torch.utils.data.DataLoader(\n",
    "    torchvision.datasets.MNIST('data', train=False, download=True,\n",
    "                               transform=torchvision.transforms.Compose([\n",
    "                                   torchvision.transforms.ToTensor(),\n",
    "                                   torchvision.transforms.Normalize(\n",
    "                                       (0.1307,), (0.3081,))\n",
    "                               ])),\n",
    "    batch_size=batch_size, shuffle=True)"
   ],
   "metadata": {
    "collapsed": false,
    "pycharm": {
     "name": "#%%\n"
    }
   }
  },
  {
   "cell_type": "code",
   "execution_count": 3,
   "outputs": [
    {
     "name": "stdout",
     "output_type": "stream",
     "text": [
      "118\n",
      "0\n",
      "tensor([8, 4, 8, 3, 7, 8, 5, 2, 9, 1, 0, 5, 3, 7, 8, 3, 0, 7, 4, 8, 1, 0, 2, 6,\n",
      "        2, 8, 7, 7, 5, 5, 5, 2, 2, 6, 1, 8, 5, 0, 9, 6, 5, 9, 4, 2, 1, 1, 2, 8,\n",
      "        9, 5, 4, 3, 4, 0, 8, 7, 0, 9, 3, 6, 3, 6, 5, 1, 0, 1, 3, 4, 7, 4, 8, 9,\n",
      "        6, 2, 4, 7, 5, 8, 9, 7, 3, 4, 0, 7, 1, 2, 7, 2, 3, 1, 6, 8, 6, 3, 2, 9,\n",
      "        4, 2, 7, 0, 3, 8, 5, 3, 8, 9, 0, 8, 9, 9, 0, 5, 1, 7, 4, 8, 4, 0, 7, 9,\n",
      "        2, 2, 4, 9, 6, 8, 1, 7, 9, 7, 9, 6, 3, 3, 3, 4, 4, 6, 7, 2, 0, 1, 1, 5,\n",
      "        9, 6, 3, 9, 3, 0, 3, 8, 8, 2, 4, 9, 2, 3, 7, 9, 8, 5, 1, 6, 1, 2, 9, 6,\n",
      "        2, 9, 6, 5, 5, 5, 3, 8, 0, 8, 7, 8, 6, 7, 3, 2, 3, 8, 4, 9, 3, 0, 1, 4,\n",
      "        4, 7, 6, 5, 4, 4, 5, 9, 4, 3, 8, 7, 8, 1, 8, 4, 0, 0, 1, 2, 2, 7, 6, 7,\n",
      "        2, 3, 3, 4, 8, 4, 8, 7, 1, 4, 8, 3, 7, 6, 9, 9, 6, 8, 1, 7, 8, 2, 1, 1,\n",
      "        5, 5, 1, 1, 4, 7, 3, 7, 8, 0, 4, 3, 0, 1, 3, 5, 7, 6, 0, 2, 1, 2, 3, 2,\n",
      "        2, 0, 5, 3, 5, 3, 4, 7, 6, 7, 1, 9, 9, 2, 7, 0, 7, 6, 6, 3, 7, 9, 8, 7,\n",
      "        3, 1, 0, 9, 1, 9, 9, 1, 0, 5, 5, 3, 3, 8, 5, 1, 4, 7, 6, 4, 4, 3, 1, 4,\n",
      "        9, 6, 8, 2, 4, 0, 6, 3, 7, 7, 4, 9, 8, 7, 9, 3, 2, 6, 7, 7, 3, 7, 1, 8,\n",
      "        1, 0, 2, 4, 2, 0, 2, 5, 6, 8, 0, 7, 2, 8, 6, 5, 2, 1, 5, 9, 2, 9, 4, 4,\n",
      "        0, 9, 1, 7, 5, 0, 5, 7, 4, 6, 3, 4, 6, 0, 8, 0, 7, 7, 2, 1, 5, 9, 2, 0,\n",
      "        7, 5, 1, 1, 9, 2, 4, 1, 5, 7, 7, 0, 6, 9, 2, 8, 8, 3, 3, 9, 0, 2, 9, 2,\n",
      "        1, 3, 2, 6, 2, 3, 3, 4, 3, 1, 2, 2, 5, 9, 0, 6, 1, 1, 6, 7, 1, 5, 0, 1,\n",
      "        0, 3, 1, 7, 0, 4, 5, 7, 5, 1, 1, 0, 3, 5, 8, 2, 7, 4, 4, 8, 7, 1, 6, 1,\n",
      "        4, 3, 8, 9, 1, 8, 6, 1, 4, 7, 5, 8, 0, 3, 0, 1, 4, 5, 7, 1, 7, 8, 1, 4,\n",
      "        3, 3, 0, 5, 3, 8, 8, 6, 9, 7, 2, 7, 5, 7, 1, 1, 0, 6, 5, 7, 3, 9, 6, 1,\n",
      "        8, 1, 7, 9, 4, 5, 8, 0])\n",
      "tensor([[[[-0.4242, -0.4242, -0.4242,  ..., -0.4242, -0.4242, -0.4242],\n",
      "          [-0.4242, -0.4242, -0.4242,  ..., -0.4242, -0.4242, -0.4242],\n",
      "          [-0.4242, -0.4242, -0.4242,  ..., -0.4242, -0.4242, -0.4242],\n",
      "          ...,\n",
      "          [-0.4242, -0.4242, -0.4242,  ..., -0.4242, -0.4242, -0.4242],\n",
      "          [-0.4242, -0.4242, -0.4242,  ..., -0.4242, -0.4242, -0.4242],\n",
      "          [-0.4242, -0.4242, -0.4242,  ..., -0.4242, -0.4242, -0.4242]]],\n",
      "\n",
      "\n",
      "        [[[-0.4242, -0.4242, -0.4242,  ..., -0.4242, -0.4242, -0.4242],\n",
      "          [-0.4242, -0.4242, -0.4242,  ..., -0.4242, -0.4242, -0.4242],\n",
      "          [-0.4242, -0.4242, -0.4242,  ..., -0.4242, -0.4242, -0.4242],\n",
      "          ...,\n",
      "          [-0.4242, -0.4242, -0.4242,  ..., -0.4242, -0.4242, -0.4242],\n",
      "          [-0.4242, -0.4242, -0.4242,  ..., -0.4242, -0.4242, -0.4242],\n",
      "          [-0.4242, -0.4242, -0.4242,  ..., -0.4242, -0.4242, -0.4242]]],\n",
      "\n",
      "\n",
      "        [[[-0.4242, -0.4242, -0.4242,  ..., -0.4242, -0.4242, -0.4242],\n",
      "          [-0.4242, -0.4242, -0.4242,  ..., -0.4242, -0.4242, -0.4242],\n",
      "          [-0.4242, -0.4242, -0.4242,  ..., -0.4242, -0.4242, -0.4242],\n",
      "          ...,\n",
      "          [-0.4242, -0.4242, -0.4242,  ..., -0.4242, -0.4242, -0.4242],\n",
      "          [-0.4242, -0.4242, -0.4242,  ..., -0.4242, -0.4242, -0.4242],\n",
      "          [-0.4242, -0.4242, -0.4242,  ..., -0.4242, -0.4242, -0.4242]]],\n",
      "\n",
      "\n",
      "        ...,\n",
      "\n",
      "\n",
      "        [[[-0.4242, -0.4242, -0.4242,  ..., -0.4242, -0.4242, -0.4242],\n",
      "          [-0.4242, -0.4242, -0.4242,  ..., -0.4242, -0.4242, -0.4242],\n",
      "          [-0.4242, -0.4242, -0.4242,  ..., -0.4242, -0.4242, -0.4242],\n",
      "          ...,\n",
      "          [-0.4242, -0.4242, -0.4242,  ..., -0.4242, -0.4242, -0.4242],\n",
      "          [-0.4242, -0.4242, -0.4242,  ..., -0.4242, -0.4242, -0.4242],\n",
      "          [-0.4242, -0.4242, -0.4242,  ..., -0.4242, -0.4242, -0.4242]]],\n",
      "\n",
      "\n",
      "        [[[-0.4242, -0.4242, -0.4242,  ..., -0.4242, -0.4242, -0.4242],\n",
      "          [-0.4242, -0.4242, -0.4242,  ..., -0.4242, -0.4242, -0.4242],\n",
      "          [-0.4242, -0.4242, -0.4242,  ..., -0.4242, -0.4242, -0.4242],\n",
      "          ...,\n",
      "          [-0.4242, -0.4242, -0.4242,  ..., -0.4242, -0.4242, -0.4242],\n",
      "          [-0.4242, -0.4242, -0.4242,  ..., -0.4242, -0.4242, -0.4242],\n",
      "          [-0.4242, -0.4242, -0.4242,  ..., -0.4242, -0.4242, -0.4242]]],\n",
      "\n",
      "\n",
      "        [[[-0.4242, -0.4242, -0.4242,  ..., -0.4242, -0.4242, -0.4242],\n",
      "          [-0.4242, -0.4242, -0.4242,  ..., -0.4242, -0.4242, -0.4242],\n",
      "          [-0.4242, -0.4242, -0.4242,  ..., -0.4242, -0.4242, -0.4242],\n",
      "          ...,\n",
      "          [-0.4242, -0.4242, -0.4242,  ..., -0.4242, -0.4242, -0.4242],\n",
      "          [-0.4242, -0.4242, -0.4242,  ..., -0.4242, -0.4242, -0.4242],\n",
      "          [-0.4242, -0.4242, -0.4242,  ..., -0.4242, -0.4242, -0.4242]]]])\n"
     ]
    }
   ],
   "source": [
    "print(len(train_loader))\n",
    "examples = enumerate(train_loader)\n",
    "#读取第一个batch\n",
    "batch_idx, (example_data, example_targets) = next(examples)\n",
    "print(batch_idx)\n",
    "print(example_targets)\n",
    "print(example_data)"
   ],
   "metadata": {
    "collapsed": false,
    "pycharm": {
     "name": "#%%\n"
    }
   }
  },
  {
   "cell_type": "code",
   "execution_count": 4,
   "outputs": [
    {
     "data": {
      "text/plain": "<Figure size 432x288 with 6 Axes>",
      "image/png": "[encoded data removed]"
     },
     "metadata": {},
     "output_type": "display_data"
    }
   ],
   "source": [
    "# 绘制数字图片\n",
    "fig = plt.figure()\n",
    "for i in range(6):\n",
    "    plt.subplot(2, 3, i + 1)\n",
    "    plt.tight_layout()\n",
    "    plt.imshow(example_data[i][0], cmap='gray', interpolation='none')\n",
    "    plt.title(\"Ground Truth: {}\".format(example_targets[i]))\n",
    "    plt.xticks([])\n",
    "    plt.yticks([])\n",
    "plt.show()"
   ],
   "metadata": {
    "collapsed": false,
    "pycharm": {
     "name": "#%%\n"
    }
   }
  },
  {
   "cell_type": "code",
   "execution_count": 5,
   "outputs": [
    {
     "name": "stdout",
     "output_type": "stream",
     "text": [
      "0 0 0.11745520681142807\n",
      "0 10 0.09180663526058197\n",
      "0 20 0.08342482149600983\n",
      "0 30 0.07654788345098495\n",
      "0 40 0.07096066325902939\n",
      "0 50 0.06374233961105347\n",
      "0 60 0.05912093073129654\n",
      "0 70 0.05748555809259415\n",
      "0 80 0.05270034074783325\n",
      "0 90 0.050733793526887894\n",
      "0 100 0.0486188605427742\n",
      "0 110 0.04647868499159813\n",
      "1 0 0.04459138214588165\n",
      "1 10 0.044025201350450516\n",
      "1 20 0.04309786856174469\n",
      "1 30 0.04223521426320076\n",
      "1 40 0.04238222911953926\n",
      "1 50 0.03992732614278793\n",
      "1 60 0.03832240775227547\n",
      "1 70 0.03865973278880119\n",
      "1 80 0.03991305083036423\n",
      "1 90 0.039131440222263336\n",
      "1 100 0.038484182208776474\n",
      "1 110 0.037374649196863174\n",
      "2 0 0.03606514260172844\n",
      "2 10 0.03541335463523865\n",
      "2 20 0.03550396487116814\n",
      "2 30 0.03499462455511093\n",
      "2 40 0.03529138118028641\n",
      "2 50 0.03365803509950638\n",
      "2 60 0.034925054758787155\n",
      "2 70 0.03243169188499451\n",
      "2 80 0.03353046253323555\n",
      "2 90 0.033127330243587494\n",
      "2 100 0.03242652863264084\n",
      "2 110 0.031140049919486046\n"
     ]
    }
   ],
   "source": [
    "def one_hot(label, depth=10):\n",
    "    out = torch.zeros(label.size(0), depth)\n",
    "    idx = torch.LongTensor(label).view(-1, 1)\n",
    "    out.scatter_(dim=1, index=idx, value=1)\n",
    "    return out\n",
    "# 网络层全部用全连接，激活函数用relu\n",
    "class Net(nn.Module):\n",
    "    def __init__(self):\n",
    "        super(Net, self).__init__()\n",
    "        #xw+b\n",
    "        self.fc1 = nn.Linear(28 * 28, 256)\n",
    "        self.fc2 = nn.Linear(256, 64)\n",
    "        #输出层\n",
    "        self.fc3 = nn.Linear(64, 10)\n",
    "\n",
    "    def forward(self, x):\n",
    "        # x的维度索引:[i,1,28,28]\n",
    "        # 计算过程\n",
    "        x = F.relu(self.fc1(x))\n",
    "        x = F.relu(self.fc2(x))\n",
    "        x = self.fc3(x)\n",
    "        return x\n",
    "\n",
    "\n",
    "net = Net()\n",
    "#梯度下降优化器\n",
    "optimizer = optim.SGD(net.parameters(), lr=0.01, momentum=0.9)\n",
    "train_loss = []\n",
    "for epoch in range(3):\n",
    "    for batch_idx, (x, y) in enumerate(train_loader):\n",
    "        # print(batch_idx,x.shape,y.shape)\n",
    "        # x的维度是[512,1,28,28]\n",
    "        # x.size(0)=512，x.size(1)=1，就是取出x的维度信息\n",
    "        # 将x的shape进行转换，[512,1,28,28]=>[512,28*28]\n",
    "        x = x.view(x.size(0), 28 * 28)\n",
    "        #相当于调用了forward函数，out就是输出的10维label\n",
    "        out = net(x)\n",
    "        y_onehot=one_hot(y)\n",
    "        loss = F.mse_loss(out, y_onehot)\n",
    "        optimizer.zero_grad()\n",
    "        loss.backward()\n",
    "        # 更新优化w'，即w' = w - lr*grad\n",
    "        optimizer.step()\n",
    "        train_loss.append(loss.item())\n",
    "        # 每10个batch输出一次loss结果\n",
    "        if batch_idx % 10 == 0:\n",
    "            print(epoch, batch_idx, loss.item())"
   ],
   "metadata": {
    "collapsed": false,
    "pycharm": {
     "name": "#%%\n"
    }
   }
  },
  {
   "cell_type": "code",
   "execution_count": 7,
   "outputs": [
    {
     "data": {
      "text/plain": "tensor([4, 3, 3, 7, 8, 5])"
     },
     "execution_count": 7,
     "metadata": {},
     "output_type": "execute_result"
    }
   ],
   "source": [
    "predict=torch.argmax(net(example_data[1:7].reshape(6,28*28)),axis=1)\n",
    "predict"
   ],
   "metadata": {
    "collapsed": false,
    "pycharm": {
     "name": "#%%\n"
    }
   }
  },
  {
   "cell_type": "code",
   "execution_count": 8,
   "outputs": [
    {
     "data": {
      "text/plain": "tensor([4, 8, 3, 7, 8, 5])"
     },
     "execution_count": 8,
     "metadata": {},
     "output_type": "execute_result"
    }
   ],
   "source": [
    "example_targets[1:7]"
   ],
   "metadata": {
    "collapsed": false,
    "pycharm": {
     "name": "#%%\n"
    }
   }
  },
  {
   "cell_type": "code",
   "execution_count": 9,
   "outputs": [
    {
     "data": {
      "text/plain": "<Figure size 432x288 with 6 Axes>",
      "image/png": "[encoded data removed]"
     },
     "metadata": {},
     "output_type": "display_data"
    }
   ],
   "source": [
    "fig = plt.figure()\n",
    "for i in range(1,7):\n",
    "    plt.subplot(2, 3, i)\n",
    "    plt.tight_layout()\n",
    "    plt.imshow(example_data[i][0], cmap='gray', interpolation='none')\n",
    "    plt.title(\"predict: {}\".format(predict[i-1]))\n",
    "    plt.xticks([])\n",
    "    plt.yticks([])\n",
    "plt.show()"
   ],
   "metadata": {
    "collapsed": false,
    "pycharm": {
     "name": "#%%\n"
    }
   }
  },
  {
   "cell_type": "code",
   "execution_count": 48,
   "outputs": [
    {
     "data": {
      "text/plain": "tensor([[  2.2459,  -7.0495,   4.3008,  ...,  59.9257,   1.9547,  -4.5579],\n        [ 16.8349, -19.2252,  38.1483,  ...,  -4.9329,   5.3892, -11.9693],\n        [ -0.2937,  34.2142,   3.6671,  ...,  -0.1134,   8.1120,  -4.7565],\n        ...,\n        [ -2.5524,  -9.1850,  -3.8000,  ...,   4.7798,  21.3665,  16.0345],\n        [  1.3266,  -3.6462,  -2.2517,  ...,  -2.0857,  27.1853,  -5.9520],\n        [ 13.3280, -15.9729,  13.2527,  ...,   0.2541,  -1.0649,  -6.0508]],\n       grad_fn=<AddmmBackward0>)"
     },
     "execution_count": 48,
     "metadata": {},
     "output_type": "execute_result"
    }
   ],
   "source": [
    "predict=net(test_loader.dataset.data.reshape(-1, 28 * 28).to(torch.float32))\n",
    "predict"
   ],
   "metadata": {
    "collapsed": false,
    "pycharm": {
     "name": "#%%\n"
    }
   }
  },
  {
   "cell_type": "code",
   "execution_count": 50,
   "outputs": [
    {
     "data": {
      "text/plain": "tensor(0.8651)"
     },
     "execution_count": 50,
     "metadata": {},
     "output_type": "execute_result"
    }
   ],
   "source": [
    "sum(torch.argmax(predict,axis=1)==test_loader.dataset.targets)/len(predict)"
   ],
   "metadata": {
    "collapsed": false,
    "pycharm": {
     "name": "#%%\n"
    }
   }
  }
 ],
 "metadata": {
  "kernelspec": {
   "display_name": "Python 3",
   "language": "python",
   "name": "python3"
  },
  "language_info": {
   "codemirror_mode": {
    "name": "ipython",
    "version": 2
   },
   "file_extension": ".py",
   "mimetype": "text/x-python",
   "name": "python",
   "nbconvert_exporter": "python",
   "pygments_lexer": "ipython2",
   "version": "2.7.6"
  }
 },
 "nbformat": 4,
 "nbformat_minor": 0
}