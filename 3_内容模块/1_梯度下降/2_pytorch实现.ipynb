{
 "cells": [
  {
   "cell_type": "code",
   "execution_count": 52,
   "outputs": [],
   "source": [
    "import torch\n",
    "import matplotlib.pyplot as plt"
   ],
   "metadata": {
    "collapsed": false,
    "pycharm": {
     "name": "#%%\n"
    }
   }
  },
  {
   "cell_type": "code",
   "execution_count": 53,
   "outputs": [
    {
     "data": {
      "text/plain": "<matplotlib.collections.PathCollection at 0x207466ff550>"
     },
     "execution_count": 53,
     "metadata": {},
     "output_type": "execute_result"
    },
    {
     "data": {
      "text/plain": "<Figure size 432x288 with 1 Axes>",
      "image/png": "[encoded data removed]"
     },
     "metadata": {
      "needs_background": "light"
     },
     "output_type": "display_data"
    }
   ],
   "source": [
    "w_true = 3\n",
    "b_true = -1\n",
    "\n",
    "\n",
    "def create_data(size):\n",
    "    x = torch.normal(0, 1, size=(size,))\n",
    "    y = w_true * x + b_true + torch.normal(0, 1, size=(size,))\n",
    "    return x, y\n",
    "\n",
    "\n",
    "x, y = create_data(1000)\n",
    "\n",
    "plt.scatter(x, y)"
   ],
   "metadata": {
    "collapsed": false,
    "pycharm": {
     "name": "#%%\n"
    }
   }
  },
  {
   "cell_type": "code",
   "execution_count": 54,
   "outputs": [],
   "source": [
    "w = torch.normal(0, 0.01, size=(1,), requires_grad=True)\n",
    "b = torch.zeros(1, requires_grad=True)"
   ],
   "metadata": {
    "collapsed": false,
    "pycharm": {
     "name": "#%%\n"
    }
   }
  },
  {
   "cell_type": "code",
   "execution_count": 55,
   "outputs": [],
   "source": [
    "trainer = torch.optim.SGD([w, b], lr=0.01)"
   ],
   "metadata": {
    "collapsed": false,
    "pycharm": {
     "name": "#%%\n"
    }
   }
  },
  {
   "cell_type": "code",
   "execution_count": 56,
   "outputs": [
    {
     "name": "stdout",
     "output_type": "stream",
     "text": [
      "tensor([3.0271], requires_grad=True) tensor([-1.0110], requires_grad=True)\n"
     ]
    }
   ],
   "source": [
    "from torch.utils import data\n",
    "\"\"\"\n",
    "使用pytorch的sgd，一定要用它的DataLoader，否则计算梯度时，不会除以batch_size\n",
    "\"\"\"\n",
    "def loss(w, b, x, y):\n",
    "    return ((y - (w * x + b)) ** 2).sum()\n",
    "\n",
    "data_iter = data.DataLoader(data.TensorDataset(*(x, y)), batch_size=20, shuffle=True)\n",
    "\n",
    "for epoch in range(3):\n",
    "    for x,y in data_iter:\n",
    "        trainer.zero_grad()\n",
    "        l = loss(w, b, x, y)\n",
    "        l.backward()\n",
    "        trainer.step()\n",
    "print(w, b)"
   ],
   "metadata": {
    "collapsed": false,
    "pycharm": {
     "name": "#%%\n"
    }
   }
  },
  {
   "cell_type": "code",
   "execution_count": null,
   "outputs": [],
   "source": [],
   "metadata": {
    "collapsed": false,
    "pycharm": {
     "name": "#%%\n"
    }
   }
  }
 ],
 "metadata": {
  "kernelspec": {
   "display_name": "Python 3",
   "language": "python",
   "name": "python3"
  },
  "language_info": {
   "codemirror_mode": {
    "name": "ipython",
    "version": 2
   },
   "file_extension": ".py",
   "mimetype": "text/x-python",
   "name": "python",
   "nbconvert_exporter": "python",
   "pygments_lexer": "ipython2",
   "version": "2.7.6"
  }
 },
 "nbformat": 4,
 "nbformat_minor": 0
}