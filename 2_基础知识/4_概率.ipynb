{
 "cells": [
  {
   "cell_type": "code",
   "execution_count": 2,
   "outputs": [],
   "source": [
    "import torch\n",
    "from torch.distributions import multinomial"
   ],
   "metadata": {
    "collapsed": false,
    "pycharm": {
     "name": "#%%\n"
    }
   }
  },
  {
   "cell_type": "code",
   "execution_count": 2,
   "outputs": [
    {
     "data": {
      "text/plain": "tensor([0.1667, 0.1667, 0.1667, 0.1667, 0.1667, 0.1667])"
     },
     "execution_count": 2,
     "metadata": {},
     "output_type": "execute_result"
    }
   ],
   "source": [
    "fair_probs = torch.ones([6]) / 6\n",
    "# 生成一个概率向量，这里设置各样本点的概率相同\n",
    "fair_probs"
   ],
   "metadata": {
    "collapsed": false,
    "pycharm": {
     "name": "#%%\n"
    }
   }
  },
  {
   "cell_type": "code",
   "execution_count": 5,
   "outputs": [
    {
     "data": {
      "text/plain": "tensor([0., 0., 0., 0., 1., 0.])"
     },
     "execution_count": 5,
     "metadata": {},
     "output_type": "execute_result"
    }
   ],
   "source": [
    "\"\"\"\n",
    "Multinomial根据传入的概率向量和要抽取的样本个数来进行选取样本\n",
    "如下就是，根据传入的的概率向量抽取一个样本，被抽取到的样本在对应位置为1\n",
    "\"\"\"\n",
    "multinomial.Multinomial(1, fair_probs).sample()"
   ],
   "metadata": {
    "collapsed": false,
    "pycharm": {
     "name": "#%%\n"
    }
   }
  },
  {
   "cell_type": "code",
   "execution_count": 26,
   "outputs": [
    {
     "name": "stdout",
     "output_type": "stream",
     "text": [
      "tensor([0.1590, 0.1570, 0.1830, 0.1670, 0.1550, 0.1790])\n",
      "tensor([0.0077, 0.0097, 0.0163, 0.0003, 0.0117, 0.0123])\n"
     ]
    }
   ],
   "source": [
    "# 多次抽样后发现基本符合传入概率\n",
    "p=multinomial.Multinomial(1000, fair_probs).sample()/1000\n",
    "print(p)\n",
    "print(torch.abs(p-fair_probs))"
   ],
   "metadata": {
    "collapsed": false,
    "pycharm": {
     "name": "#%%\n"
    }
   }
  },
  {
   "cell_type": "code",
   "execution_count": 28,
   "outputs": [
    {
     "data": {
      "text/plain": "tensor([[1., 1., 1., 2., 3., 2.],\n        [4., 1., 1., 1., 2., 1.],\n        [0., 2., 0., 5., 2., 1.],\n        ...,\n        [1., 2., 2., 3., 0., 2.],\n        [1., 3., 2., 3., 1., 0.],\n        [2., 1., 1., 2., 0., 4.]])"
     },
     "execution_count": 28,
     "metadata": {},
     "output_type": "execute_result"
    }
   ],
   "source": [
    "# 进⾏500组实验，每组抽取10个样本\n",
    "counts = multinomial.Multinomial(10, fair_probs).sample((500,))\n",
    "counts"
   ],
   "metadata": {
    "collapsed": false,
    "pycharm": {
     "name": "#%%\n"
    }
   }
  },
  {
   "cell_type": "code",
   "execution_count": 42,
   "outputs": [
    {
     "data": {
      "text/plain": "<Figure size 432x288 with 1 Axes>",
      "image/png": "[encoded data removed]"
     },
     "metadata": {
      "needs_background": "light"
     },
     "output_type": "display_data"
    }
   ],
   "source": [
    "# 画出概率收敛图\n",
    "from matplotlib import pyplot as plt\n",
    "cum_counts=counts.cumsum(dim=0)\n",
    "cum_counts_sum=cum_counts.sum(dim=1,keepdims=True)\n",
    "estimates=cum_counts/cum_counts_sum\n",
    "for i in range(estimates.size(1)):\n",
    "    plt.plot(cum_counts_sum[:,0],estimates[:,i])\n",
    "plt.show()"
   ],
   "metadata": {
    "collapsed": false,
    "pycharm": {
     "name": "#%%\n"
    }
   }
  },
  {
   "cell_type": "code",
   "execution_count": 14,
   "outputs": [
    {
     "data": {
      "text/plain": "tensor([0.0009, 0.0025, 0.0067, 0.0183])"
     },
     "execution_count": 14,
     "metadata": {},
     "output_type": "execute_result"
    }
   ],
   "source": [
    "unfair=torch.exp(torch.arange(1,5))\n",
    "unfair=unfair/(unfair.max()**2)\n",
    "unfair"
   ],
   "metadata": {
    "collapsed": false,
    "pycharm": {
     "name": "#%%\n"
    }
   }
  },
  {
   "cell_type": "code",
   "execution_count": 1,
   "outputs": [
    {
     "ename": "NameError",
     "evalue": "name 'multinomial' is not defined",
     "output_type": "error",
     "traceback": [
      "\u001B[1;31m---------------------------------------------------------------------------\u001B[0m",
      "\u001B[1;31mNameError\u001B[0m                                 Traceback (most recent call last)",
      "Input \u001B[1;32mIn [1]\u001B[0m, in \u001B[0;36m<cell line: 2>\u001B[1;34m()\u001B[0m\n\u001B[0;32m      1\u001B[0m \u001B[38;5;66;03m# 基本上只有位置2与位置3会被选中\u001B[39;00m\n\u001B[1;32m----> 2\u001B[0m \u001B[43mmultinomial\u001B[49m\u001B[38;5;241m.\u001B[39mMultinomial(\u001B[38;5;241m1\u001B[39m, unfair)\u001B[38;5;241m.\u001B[39msample()\n",
      "\u001B[1;31mNameError\u001B[0m: name 'multinomial' is not defined"
     ]
    }
   ],
   "source": [
    "# 基本上只有位置2与位置3会被选中\n",
    "multinomial.Multinomial(1, unfair).sample()"
   ],
   "metadata": {
    "collapsed": false,
    "pycharm": {
     "name": "#%%\n"
    }
   }
  },
  {
   "cell_type": "code",
   "execution_count": 8,
   "outputs": [
    {
     "data": {
      "text/plain": "tensor([-0.5052, -0.4768, -0.0046, -0.4850,  0.3611, -0.0015, -0.4655, -0.0407,\n        -0.4586, -0.4118])"
     },
     "execution_count": 8,
     "metadata": {},
     "output_type": "execute_result"
    }
   ],
   "source": [
    "# 正态分布\n",
    "torch.normal(0,1,(10,))"
   ],
   "metadata": {
    "collapsed": false,
    "pycharm": {
     "name": "#%%\n"
    }
   }
  },
  {
   "cell_type": "code",
   "execution_count": null,
   "outputs": [],
   "source": [],
   "metadata": {
    "collapsed": false,
    "pycharm": {
     "name": "#%%\n"
    }
   }
  }
 ],
 "metadata": {
  "kernelspec": {
   "display_name": "Python 3",
   "language": "python",
   "name": "python3"
  },
  "language_info": {
   "codemirror_mode": {
    "name": "ipython",
    "version": 2
   },
   "file_extension": ".py",
   "mimetype": "text/x-python",
   "name": "python",
   "nbconvert_exporter": "python",
   "pygments_lexer": "ipython2",
   "version": "2.7.6"
  }
 },
 "nbformat": 4,
 "nbformat_minor": 0
}