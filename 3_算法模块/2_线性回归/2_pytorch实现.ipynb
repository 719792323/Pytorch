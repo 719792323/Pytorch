{
 "cells": [
  {
   "cell_type": "code",
   "execution_count": 2,
   "outputs": [],
   "source": [
    "from torch import nn\n",
    "import torch\n",
    "from torch.utils import data"
   ],
   "metadata": {
    "collapsed": false,
    "pycharm": {
     "name": "#%%\n"
    }
   }
  },
  {
   "cell_type": "code",
   "execution_count": 3,
   "outputs": [],
   "source": [
    "# 定义网络模型\n",
    "# Sequential就是对所有网络层的一个包裹，让其形成一个流水线\n",
    "\"\"\"\n",
    "对于标准深度学习模型，我们可以使⽤框架的预定义好的层。这使我们只需关注使⽤哪些层来构造模型，⽽\n",
    "不必关注层的实现细节。我们⾸先定义⼀个模型变量net，它是⼀个Sequential类的实例。 Sequential类将多\n",
    "个层串联在⼀起。当给定输⼊数据时， Sequential实例将数据传⼊到第⼀层，然后将第⼀层的输出作为第⼆\n",
    "层的输⼊，以此类推。在下⾯的例⼦中，我们的模型只包含⼀个层，因此实际上不需要Sequential。但是由\n",
    "于以后⼏乎所有的模型都是多层的，在这⾥使⽤Sequential会让你熟悉“标准的流⽔线”\n",
    "\"\"\"\n",
    "## nn.Linear代表全连接，也就是WX，2代表该层的输入，1代表该层的输出\n",
    "net = nn.Sequential(nn.Linear(2, 1))"
   ],
   "metadata": {
    "collapsed": false,
    "pycharm": {
     "name": "#%%\n"
    }
   }
  },
  {
   "cell_type": "code",
   "execution_count": 4,
   "outputs": [
    {
     "data": {
      "text/plain": "tensor([0.])"
     },
     "execution_count": 4,
     "metadata": {},
     "output_type": "execute_result"
    }
   ],
   "source": [
    "# 初始化网络模型参数\n",
    "\"\"\"\n",
    "如在线性回归模型中的权重和偏置，深度学习框架通常有预定义的⽅法来初始化参数。\n",
    "在这⾥，我们指定每个权重参数应该从均值为0、标准差为0.01的正态分布中随机采样，偏置参数将初始化为零\n",
    "\"\"\"\n",
    "\"\"\"\n",
    "通过net[0]选择⽹络中的第⼀个图层，然后使⽤weight.data和bias.data⽅法访问参数。net[0]表示第一层网络\n",
    "还可以使⽤替换⽅法normal_和fill_来重写参数值。\n",
    "\"\"\"\n",
    "net[0].weight.data.normal_(0, 0.01)\n",
    "net[0].bias.data.fill_(0)"
   ],
   "metadata": {
    "collapsed": false,
    "pycharm": {
     "name": "#%%\n"
    }
   }
  },
  {
   "cell_type": "code",
   "execution_count": 5,
   "outputs": [],
   "source": [
    "# 定义损失函数\n",
    "loss = nn.MSELoss()"
   ],
   "metadata": {
    "collapsed": false,
    "pycharm": {
     "name": "#%%\n"
    }
   }
  },
  {
   "cell_type": "code",
   "execution_count": 7,
   "outputs": [
    {
     "name": "stdout",
     "output_type": "stream",
     "text": [
      "Parameter containing:\n",
      "tensor([[-0.0112,  0.0270]], requires_grad=True) Parameter containing:\n",
      "tensor([0.], requires_grad=True)\n"
     ]
    }
   ],
   "source": [
    "# 定义优化算法\n",
    "\"\"\"\n",
    "⼩批量随机梯度下降算法是⼀种优化神经⽹络的标准⼯具， PyTorch在optim模块中实现了该算法的许多变种。\n",
    "当我们实例化⼀个SGD实例时，我们要指定优化的参数（可通过net.parameters()从我们的模型中获得）\n",
    "以及优化算法所需的超参数字典。⼩批量随机梯度下降只需要设置lr值，这⾥设置为0.03\n",
    "\"\"\"\n",
    "trainer = torch.optim.SGD(net.parameters(), lr=0.03)\n",
    "print(*net.parameters())#因为只有一层网络，所以就是W和b两个参数"
   ],
   "metadata": {
    "collapsed": false,
    "pycharm": {
     "name": "#%%\n"
    }
   }
  },
  {
   "cell_type": "code",
   "execution_count": 17,
   "outputs": [],
   "source": [
    "# 生成数据\n",
    "def synthetic_data(w, b, num_examples):\n",
    "    \"\"\"⽣成y=Xw+b+噪声\"\"\"\n",
    "    # x为标准状态分布，生成的列维度和w一样\n",
    "    X = torch.normal(0, 1, (num_examples, len(w)))\n",
    "    y = torch.matmul(X, w) + b\n",
    "    # 噪声\n",
    "    y += torch.normal(0, 0.01, y.shape)\n",
    "    return X, y.reshape((-1, 1))\n",
    "\n",
    "\n",
    "true_w = torch.tensor([2, -3.4])\n",
    "true_b = 4.2\n",
    "features, labels = synthetic_data(true_w, true_b, 1000)\n",
    "data_iter = data.DataLoader(data.TensorDataset(*(features, labels)), batch_size=10, shuffle=True)"
   ],
   "metadata": {
    "collapsed": false,
    "pycharm": {
     "name": "#%%\n"
    }
   }
  },
  {
   "cell_type": "code",
   "execution_count": 18,
   "outputs": [
    {
     "name": "stdout",
     "output_type": "stream",
     "text": [
      "epoch 1, loss 0.000329\n",
      "epoch 2, loss 0.000096\n",
      "epoch 3, loss 0.000096\n"
     ]
    }
   ],
   "source": [
    "# 训练\n",
    "num_epochs = 3\n",
    "for epoch in range(num_epochs):\n",
    "    for X, y in data_iter:\n",
    "        l = loss(net(X), y)\n",
    "        trainer.zero_grad()  #清除梯度\n",
    "        l.backward() # 求导\n",
    "        trainer.step()  #更新梯度\n",
    "        l = loss(net(features), labels)\n",
    "    print(f'epoch {epoch + 1}, loss {l:f}')"
   ],
   "metadata": {
    "collapsed": false,
    "pycharm": {
     "name": "#%%\n"
    }
   }
  },
  {
   "cell_type": "code",
   "execution_count": 21,
   "outputs": [
    {
     "name": "stdout",
     "output_type": "stream",
     "text": [
      "tensor([[ 1.9998, -3.3987]])===tensor([ 2.0000, -3.4000])\n",
      "tensor([4.1998])===4.2\n"
     ]
    }
   ],
   "source": [
    "print(net[0].weight.data,true_w,sep=\"——\")\n",
    "print(net[0].bias.data,true_b,sep=\"——\")"
   ],
   "metadata": {
    "collapsed": false,
    "pycharm": {
     "name": "#%%\n"
    }
   }
  }
 ],
 "metadata": {
  "kernelspec": {
   "display_name": "Python 3",
   "language": "python",
   "name": "python3"
  },
  "language_info": {
   "codemirror_mode": {
    "name": "ipython",
    "version": 2
   },
   "file_extension": ".py",
   "mimetype": "text/x-python",
   "name": "python",
   "nbconvert_exporter": "python",
   "pygments_lexer": "ipython2",
   "version": "2.7.6"
  }
 },
 "nbformat": 4,
 "nbformat_minor": 0
}